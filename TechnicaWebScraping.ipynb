{
 "cells": [
  {
   "cell_type": "code",
   "execution_count": 4,
   "id": "ae279a3a-87f0-47eb-b9a2-26a9140cb16d",
   "metadata": {},
   "outputs": [],
   "source": [
    "# Starting by importing libraries\n",
    "\n",
    "from bs4 import BeautifulSoup\n",
    "import requests\n",
    "import datetime\n",
    "import time\n",
    "import smtplib\n",
    "import csv\n",
    "import pandas as pd"
   ]
  },
  {
   "cell_type": "code",
   "execution_count": 17,
   "id": "cdc6449f-7c61-4fab-92cd-0e68add1a30f",
   "metadata": {},
   "outputs": [
    {
     "name": "stdout",
     "output_type": "stream",
     "text": [
      "\n",
      "\n",
      "             Audio-Technica ATH-M50X Professional Studio Monitor Headphones, Black, Professional Grade, Critically Acclaimed, with Detachable Cable\n",
      "            \n",
      "\n",
      "129.\n",
      "4.2 out of 5 stars\n",
      "FREE Returns\n"
     ]
    }
   ],
   "source": [
    "# Connecting to website\n",
    "\n",
    "URL = 'https://www.amazon.com/Audio-Technica-ATH-M50x-Professional-Monitor-Headphones/dp/B00HVLUR86/?_encoding=UTF8&pd_rd_w=dpbnC&content-id=amzn1.sym.ce7f3edf-012d-48bd-8dd4-138738c29cfa&pf_rd_p=ce7f3edf-012d-48bd-8dd4-138738c29cfa&pf_rd_r=QKTXT3Q7F487PKJYYNYM&pd_rd_wg=K8B1i&pd_rd_r=64cd525c-d896-492b-8093-c951fdaf21b3&ref_=pd_hp_d_btf_gcx_gw_per_1&th=1'\n",
    "\n",
    "headers = {\"User-Agent\": \"Mozilla/5.0 (Windows NT 10.0; Win64; x64) AppleWebKit/537.36 (KHTML, like Gecko) Chrome/131.0.0.0 Safari/537.36\", \"Accept-Language\": \"en-US,en;q=0.9\"}\n",
    "           \n",
    "    # It's important to add the code \"Accept-Language\": \"en-US,en;q=0.9\"\n",
    "    # Simply states that I prefer English as my main language\n",
    "    # Allows me to use various attributes such as .get_text() later\n",
    "\n",
    "page = requests.get(URL, headers=headers)\n",
    "\n",
    "soup1 = BeautifulSoup(page.content, 'html.parser')\n",
    "\n",
    "# Organizing contents of soup1\n",
    "soup2 = BeautifulSoup(soup1.prettify(), 'html.parser')\n",
    "\n",
    "\n",
    "#Scraping the website information\n",
    "#I found information by using element finder on the actual website for the headphones\n",
    "\n",
    "title = soup2.find(id='title').get_text()\n",
    "\n",
    "dc_price = soup2.find(class_='a-price-whole').get_text(strip=True)\n",
    "\n",
    "rating = soup2.find('span', class_='a-icon-alt').get_text(strip=True)\n",
    "\n",
    "returns = soup2.find('a', id='creturns-policy-anchor-text').get_text(strip=True)\n",
    "\n",
    "print(title)\n",
    "print(dc_price)\n",
    "print(rating)\n",
    "print(returns)"
   ]
  },
  {
   "cell_type": "code",
   "execution_count": 18,
   "id": "3b398ec5-31dd-4849-a599-5062ee551985",
   "metadata": {},
   "outputs": [
    {
     "name": "stdout",
     "output_type": "stream",
     "text": [
      "Audio-Technica ATH-M50X Professional Studio Monitor Headphones, Black, Professional Grade, Critically Acclaimed, with Detachable Cable\n",
      "129\n",
      "4.2 out of 5 stars\n",
      "FREE Returns\n"
     ]
    }
   ],
   "source": [
    "#Data cleaning\n",
    "\n",
    "dc_price = dc_price.strip()[:-1]\n",
    "title = title.strip()\n",
    "rating = rating.strip()\n",
    "returns = returns.strip()\n",
    "\n",
    "print(title)\n",
    "print(dc_price)\n",
    "print(rating)\n",
    "print(returns)"
   ]
  },
  {
   "cell_type": "code",
   "execution_count": 19,
   "id": "c6984c16-53d9-4e67-942d-af2745fed87e",
   "metadata": {},
   "outputs": [
    {
     "name": "stdout",
     "output_type": "stream",
     "text": [
      "2024-12-14\n"
     ]
    }
   ],
   "source": [
    "#Adding date\n",
    "\n",
    "today = datetime.date.today()\n",
    "print(today)"
   ]
  },
  {
   "cell_type": "code",
   "execution_count": 20,
   "id": "bfb5efa2-ae4b-479b-b8f5-503bb3249c3b",
   "metadata": {},
   "outputs": [],
   "source": [
    "#Creating CSV and adding data to it\n",
    "\n",
    "header = ['Title', 'Price', 'Date', 'Rating', 'Returns']\n",
    "data = [title, dc_price, today, rating, returns]\n",
    "\n",
    "\n",
    "#Using 'w' to write and 'newline' to remove spaces between CSVs\n",
    "#Creating CSV then adding header and data\n",
    "with open('TechnicaWebScraping.csv', 'w', newline='', encoding='UTF8') as f:\n",
    "    writer = csv.writer(f)\n",
    "    writer.writerow(header)\n",
    "    writer.writerow(data)"
   ]
  },
  {
   "cell_type": "code",
   "execution_count": 21,
   "id": "9a26aa14-a535-4fad-b849-62ef4d059496",
   "metadata": {},
   "outputs": [
    {
     "name": "stdout",
     "output_type": "stream",
     "text": [
      "                                               Title  Price        Date  \\\n",
      "0  Audio-Technica ATH-M50X Professional Studio Mo...    129  2024-12-14   \n",
      "\n",
      "               Rating       Returns  \n",
      "0  4.2 out of 5 stars  FREE Returns  \n"
     ]
    }
   ],
   "source": [
    "#Using pandas library to read in the CSV file and visually see my list\n",
    "\n",
    "df = pd.read_csv(r'C:\\Users\\aronk\\TechnicaWebScraping.csv')\n",
    "print(df)"
   ]
  },
  {
   "cell_type": "code",
   "execution_count": 22,
   "id": "e79c4e01-9283-4682-b2a0-18e2f2321b52",
   "metadata": {},
   "outputs": [],
   "source": [
    "#Creating a function in which will give me the data that I want everyday automatically\n",
    "#Simply adding the code that I already wrote into the function\n",
    "\n",
    "def check_price():\n",
    "    URL = 'https://www.amazon.com/Audio-Technica-ATH-M50x-Professional-Monitor-Headphones/dp/B00HVLUR86/?_encoding=UTF8&pd_rd_w=dpbnC&content-id=amzn1.sym.ce7f3edf-012d-48bd-8dd4-138738c29cfa&pf_rd_p=ce7f3edf-012d-48bd-8dd4-138738c29cfa&pf_rd_r=QKTXT3Q7F487PKJYYNYM&pd_rd_wg=K8B1i&pd_rd_r=64cd525c-d896-492b-8093-c951fdaf21b3&ref_=pd_hp_d_btf_gcx_gw_per_1&th=1'\n",
    "\n",
    "    headers = {\"User-Agent\": \"Mozilla/5.0 (Windows NT 10.0; Win64; x64) AppleWebKit/537.36 (KHTML, like Gecko) Chrome/131.0.0.0 Safari/537.36\", \"Accept-Language\": \"en-US,en;q=0.9\"}\n",
    "\n",
    "    page = requests.get(URL, headers=headers)\n",
    "\n",
    "    soup1 = BeautifulSoup(page.content, 'html.parser')\n",
    "\n",
    "    soup2 = BeautifulSoup(soup1.prettify(), 'html.parser')\n",
    "\n",
    "    title = soup2.find(id='title').get_text()\n",
    "\n",
    "    dc_price = soup2.find(class_='a-price-whole').get_text(strip=True)\n",
    "\n",
    "    rating = soup2.find('span', class_='a-icon-alt').get_text(strip=True)\n",
    "\n",
    "    returns = soup2.find('a', id='creturns-policy-anchor-text').get_text(strip=True)\n",
    "    \n",
    "    dc_price = dc_price.strip()[:-1]\n",
    "    title = title.strip()\n",
    "    rating = rating.strip()\n",
    "    returns = returns.strip()\n",
    "    \n",
    "    today = datetime.date.today()\n",
    "\n",
    "    header = ['Title', 'Price', 'Date', 'Rating', 'Returns']\n",
    "    data = [title, dc_price, today, rating, returns]\n",
    "\n",
    "    with open('TechnicaWebScraping.csv', 'w', newline='', encoding='UTF8') as f:\n",
    "        writer = csv.writer(f)\n",
    "        writer.writerow(header)\n",
    "        writer.writerow(data)"
   ]
  },
  {
   "cell_type": "code",
   "execution_count": null,
   "id": "e4a6d799-88ab-408c-bbc8-a61db4701344",
   "metadata": {},
   "outputs": [],
   "source": [
    "#This adds new price every month\n",
    "\n",
    "while(True):\n",
    "    check_price()\n",
    "    time.sleep(60*60*24*30)     #Multipling to find the seconds in a month"
   ]
  }
 ],
 "metadata": {
  "kernelspec": {
   "display_name": "Python 3 (ipykernel)",
   "language": "python",
   "name": "python3"
  },
  "language_info": {
   "codemirror_mode": {
    "name": "ipython",
    "version": 3
   },
   "file_extension": ".py",
   "mimetype": "text/x-python",
   "name": "python",
   "nbconvert_exporter": "python",
   "pygments_lexer": "ipython3",
   "version": "3.12.7"
  }
 },
 "nbformat": 4,
 "nbformat_minor": 5
}
